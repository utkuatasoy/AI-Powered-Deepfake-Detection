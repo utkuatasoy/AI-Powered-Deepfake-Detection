{
 "cells": [
  {
   "cell_type": "code",
   "execution_count": 1,
   "metadata": {},
   "outputs": [
    {
     "name": "stdout",
     "output_type": "stream",
     "text": [
      "Ultralytics 8.3.28  Python-3.12.1 torch-2.5.1+cpu CPU (AMD Ryzen 5 5600H with Radeon Graphics)\n",
      "Setup complete  (12 CPUs, 13.9 GB RAM, 484.0/753.1 GB disk)\n"
     ]
    }
   ],
   "source": [
    "import ultralytics\n",
    "ultralytics.checks()"
   ]
  },
  {
   "cell_type": "code",
   "execution_count": 2,
   "metadata": {},
   "outputs": [],
   "source": [
    "from ultralytics import YOLO"
   ]
  },
  {
   "cell_type": "code",
   "execution_count": null,
   "metadata": {},
   "outputs": [
    {
     "name": "stdout",
     "output_type": "stream",
     "text": [
      "WARNING ⚠️ 'source' argument is missing. Using default 'source=C:\\Users\\Utku\\AppData\\Local\\Programs\\Python\\Python312\\Lib\\site-packages\\ultralytics\\assets'.\n",
      "Ultralytics 8.3.28 🚀 Python-3.12.1 torch-2.5.1+cpu CPU (AMD Ryzen 5 5600H with Radeon Graphics)\n",
      "YOLO11n summary (fused): 238 layers, 2,616,248 parameters, 0 gradients, 6.5 GFLOPs\n",
      "\n",
      "image 1/2 C:\\Users\\Utku\\AppData\\Local\\Programs\\Python\\Python312\\Lib\\site-packages\\ultralytics\\assets\\bus.jpg: 640x480 4 persons, 1 bus, 78.5ms\n",
      "image 2/2 C:\\Users\\Utku\\AppData\\Local\\Programs\\Python\\Python312\\Lib\\site-packages\\ultralytics\\assets\\zidane.jpg: 384x640 2 persons, 1 tie, 60.9ms\n",
      "Speed: 3.8ms preprocess, 69.7ms inference, 11.1ms postprocess per image at shape (1, 3, 384, 640)\n",
      "Results saved to \u001b[1mruns\\detect\\predict\u001b[0m\n",
      "💡 Learn more at https://docs.ultralytics.com/modes/predict\n"
     ]
    }
   ],
   "source": [
    "!yolo task=detect mode=predict model=yolo11n.pt source=\"C:/Users/Utku/Desktop/BIL462 PROJE/Celeb-DF/Celeb-real/id3_0001.mp4\" device='cpu' save=True"
   ]
  }
 ],
 "metadata": {
  "kernelspec": {
   "display_name": "Python 3",
   "language": "python",
   "name": "python3"
  },
  "language_info": {
   "codemirror_mode": {
    "name": "ipython",
    "version": 3
   },
   "file_extension": ".py",
   "mimetype": "text/x-python",
   "name": "python",
   "nbconvert_exporter": "python",
   "pygments_lexer": "ipython3",
   "version": "3.12.1"
  }
 },
 "nbformat": 4,
 "nbformat_minor": 2
}
